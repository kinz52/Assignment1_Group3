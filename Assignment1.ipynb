{
 "cells": [
  {
   "cell_type": "markdown",
   "id": "0685259a-6ba1-4ccd-9882-5acb3eec4f45",
   "metadata": {},
   "source": [
    "Assignment #1\n",
    "\n",
    "Create or find your own corpus. This corpus should have the following characteristics:\n",
    "• Three different subcorpora, belonging to three different genres (aka registers or text types)\n",
    "• Each genre at least 5,000 words long\n",
    "\n",
    "By genre I mean a type of text that differs from other types of text in content, audience, or mode of delivery. A newspaper article and a podcast about electric vehicles may have similar content but have different audiences and modes of delivery. A lecture and an exam may have similar content and audience, but a different mode of delivery (one oral and one written). \n",
    "\n",
    "You have many options. You can collect your own email or text messages from several days, your own papers or other course work, or you can collect from external sources. \n",
    "A few things to take into account:\n",
    "• If you use email or text messages, you can only include text sent by you. Text by other participants (including threads in quotes in your own messages) needs to be excluded for confidentiality reasons. Alternatively, you can ask the people involved to give you permission to use the data for research purposes. This also includes text posted on social networks, where a password or permission is required to access the data. \n",
    "• If you use text from web sites, you do not normally need permission, unless the site is protected under a password.\n",
    "• Newspaper text is certainly the easiest to find, but please make sure you have distinct genres within it. For instance, you could use a high-brow vs. low-brow newspaper, or opinion pieces vs. news articles.\n",
    "• You will need to save the corpora as plain text.\n",
    "• It is fine to use all written text, but if you have access to transcribed sources of spoken language, feel free to use that as well.\n",
    "• Please include a reference to the source of each genre in your assignment.\n",
    "\n",
    "Here is what you need to submit, for each subcorpus:\n",
    "1. The length (in words).\n",
    "   Command: len(text)\n",
    "3. The lexical diversity.\n",
    "   Command: lexical_diversity(text)\n",
    "5. Top 10 most frequent words and their counts.\n",
    "   Command:\n",
    "   fdist1 = FreqDist(text)\n",
    "   fdist1.most_common(10)\n",
    "7. Words that are at least 10 characters long and their counts.\n", filtered_words = [word for word in JeffTokens if len(word) >= 10]then, print(sorted(set(w.lower() for w in filtered_words if w.isalpha()))) still trying to find out how to get the conut for each word
    "8. The longest sentence (type the sentence and give the number of words). Hint: look at the Gutenberg part of Section 2.1 in NLTK.\n",
    "9. A stemmed version of the longest sentence.\n",
    "10. Overall (not for each subcorpus): A reflection (1 paragraph or so): What do the most frequent words, the longest words, and longest sentence tell you about each of the 3 genres? How do you interpret the lexical diversity?\n",
    "\n",
    "For the assignment, you need to submit on Canvas:\n",
    "• The answer to the six questions, for each subcorpus, and the answer to question 7. Please submit this as a pdf, with clear indication of which corpus the answer is for.\n",
    "• The commands used to arrive at the answer (a pdf of your notebook or a link to a GitHub repository). "
   ]
  }
 ],
 "metadata": {
  "kernelspec": {
   "display_name": "Python 3 (ipykernel)",
   "language": "python",
   "name": "python3"
  },
  "language_info": {
   "codemirror_mode": {
    "name": "ipython",
    "version": 3
   },
   "file_extension": ".py",
   "mimetype": "text/x-python",
   "name": "python",
   "nbconvert_exporter": "python",
   "pygments_lexer": "ipython3",
   "version": "3.12.4"
  }
 },
 "nbformat": 4,
 "nbformat_minor": 5
}
